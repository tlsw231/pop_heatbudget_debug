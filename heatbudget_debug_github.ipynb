{
 "cells": [
  {
   "cell_type": "markdown",
   "id": "c2c7d6d9-3f68-4938-a542-1f143e6cd6e4",
   "metadata": {},
   "source": [
    "### Compute time weights to obtain the time mean from the monthly files"
   ]
  },
  {
   "cell_type": "code",
   "execution_count": null,
   "id": "79e98f15-ccab-4313-82be-d7fdede42c73",
   "metadata": {},
   "outputs": [],
   "source": [
    "weights=ds.time.dt.days_in_month/ds.time.dt.days_in_month.sum()\n",
    "weights=weights.compute()\n",
    "weights.sum()"
   ]
  },
  {
   "cell_type": "code",
   "execution_count": 20,
   "id": "0089c690-0012-4c30-b23f-1021438098b8",
   "metadata": {},
   "outputs": [],
   "source": [
    "# For 0.1 degree POP output\n",
    "#ds['DZBC']=xr.broadcast(ds.dz,ds.TLONG)[0]\n",
    "#ds['DZBC']=ds['DZBC'][-1,:,:]\n",
    "#dzu, dzt = pop_tools.grid.calc_dzu_dzt(ds)\n",
    "#ds['DZU']=dzu; ds['DZT']=dzt\n",
    "\n",
    "# For 1 deg POP output\n",
    "ds['DZU']=xr.broadcast(ds.dz,ds.TLONG)[0]; ds['DZT']=ds['DZU']\n",
    "\n",
    "ds.DZT.attrs[\"long_name\"] = \"Thickness of T cells\"\n",
    "ds.DZT.attrs[\"units\"] = \"centimeter\"\n",
    "ds.DZT.attrs[\"grid_loc\"] = \"3111\"\n",
    "ds.DZU.attrs[\"long_name\"] = \"Thickness of U cells\"\n",
    "ds.DZU.attrs[\"units\"] = \"centimeter\"\n",
    "ds.DZU.attrs[\"grid_loc\"] = \"3221\""
   ]
  },
  {
   "cell_type": "code",
   "execution_count": 21,
   "id": "1f31ecd4-3ccf-4ac5-9fcd-26f7a8031687",
   "metadata": {},
   "outputs": [],
   "source": [
    "volfile=Path(common_path + 'popvol.nc')\n",
    "\n",
    "if volfile.is_file():\n",
    "    ds_VOL=xr.open_dataset(volfile)\n",
    "    VOL=ds_VOL.VOL\n",
    "else:    \n",
    "# make sure we have the cell volumne for calculations\n",
    "    VOL = (ds.DZT * ds.DXT * ds.DYT).compute()\n",
    "    KMT = ds.KMT.compute()\n",
    "\n",
    "    for j in tqdm(range(len(KMT.nlat))):\n",
    "        for i in range(len(KMT.nlon)):\n",
    "            k = KMT.values[j, i].astype(int)\n",
    "            VOL.values[k:, j, i] = 0.0\n",
    "    VOL.to_dataset(name='VOL').to_netcdf(volfile,mode='w')\n",
    "            \n",
    "ds[\"VOL\"] = VOL\n",
    "\n",
    "ds.VOL.attrs[\"long_name\"] = \"volume of T cells\"\n",
    "ds.VOL.attrs[\"units\"] = \"centimeter^3\"\n",
    "\n",
    "ds.VOL.attrs[\"grid_loc\"] = \"3111\""
   ]
  },
  {
   "cell_type": "code",
   "execution_count": 22,
   "id": "504a302b-7c57-4887-9fea-4ef789b0aab5",
   "metadata": {},
   "outputs": [
    {
     "name": "stdout",
     "output_type": "stream",
     "text": [
      "CPU times: user 235 ms, sys: 42.1 ms, total: 277 ms\n",
      "Wall time: 258 ms\n"
     ]
    }
   ],
   "source": [
    "%%time\n",
    "\n",
    "metrics = {\n",
    "    (\"X\",): [\"DXU\", \"DXT\"],  # X distances\n",
    "    (\"Y\",): [\"DYU\", \"DYT\"],  # Y distances\n",
    "    (\"Z\",): [\"DZU\", \"DZT\"],  # Z distances\n",
    "    (\"X\", \"Y\"): [\"UAREA\", \"TAREA\"],\n",
    "}\n",
    "\n",
    "# here we get the xgcm compatible dataset\n",
    "gridxgcm, dsxgcm = pop_tools.to_xgcm_grid_dataset(\n",
    "    ds,\n",
    "    periodic=['X','Y'],\n",
    "    metrics=metrics,\n",
    "#    boundary={\"X\":\"extend\",\"Y\":\"extend\",\"Z\": \"extend\"},\n",
    "    boundary={\"Z\": \"extend\"}\n",
    ") \n",
    "\n",
    "for coord in [\"nlat\", \"nlon\"]:\n",
    "    if coord in dsxgcm.coords:\n",
    "        dsxgcm = dsxgcm.drop_vars(coord)\n",
    "        \n",
    "#ds.close()"
   ]
  },
  {
   "cell_type": "code",
   "execution_count": 24,
   "id": "633a94d0-bf51-4503-9e44-c1c39bc4fea4",
   "metadata": {},
   "outputs": [],
   "source": [
    "vol=dsxgcm.VOL.values"
   ]
  },
  {
   "cell_type": "markdown",
   "id": "0824ebcb-1152-49e4-8228-becab486b265",
   "metadata": {},
   "source": [
    "### Compute the time means of all the terms in the budget"
   ]
  },
  {
   "cell_type": "code",
   "execution_count": 25,
   "id": "251ee477-4205-4355-82e3-97b93c0f053a",
   "metadata": {},
   "outputs": [],
   "source": [
    "uet_tmean=(dsxgcm.UET*weights).sum(dim='time',skipna=True).persist()"
   ]
  },
  {
   "cell_type": "code",
   "execution_count": 26,
   "id": "054eb833-7b52-4b81-b3a3-2b3cfef29860",
   "metadata": {},
   "outputs": [],
   "source": [
    "vnt_tmean=(dsxgcm.VNT*weights).sum(dim='time',skipna=True).persist()"
   ]
  },
  {
   "cell_type": "code",
   "execution_count": 27,
   "id": "39d66fa3-c3c3-4e32-8210-dbc774686eef",
   "metadata": {},
   "outputs": [],
   "source": [
    "wtt_tmean=(dsxgcm.WTT*weights).sum(dim='time',skipna=True).persist()"
   ]
  },
  {
   "cell_type": "code",
   "execution_count": 28,
   "id": "0bc3e5a2-48c6-45e7-b02e-b0dd88079a2d",
   "metadata": {},
   "outputs": [],
   "source": [
    "diapyc_tmean=(dsxgcm.DIA_IMPVF_TEMP*weights).sum(dim='time',skipna=True).persist()"
   ]
  },
  {
   "cell_type": "code",
   "execution_count": 29,
   "id": "94221521-816d-4f1f-836a-517b9db36019",
   "metadata": {},
   "outputs": [],
   "source": [
    "kppnl_tmean=(dsxgcm.KPP_SRC_TEMP*weights).sum(dim='time',skipna=True).persist()"
   ]
  },
  {
   "cell_type": "code",
   "execution_count": 30,
   "id": "d3e16446-5a75-4916-acad-b6cfcd8e80ea",
   "metadata": {},
   "outputs": [],
   "source": [
    "hdife_tmean=(dsxgcm.HDIFE_TEMP*weights).sum(dim='time',skipna=True).persist()\n",
    "hdifn_tmean=(dsxgcm.HDIFN_TEMP*weights).sum(dim='time',skipna=True).persist()\n",
    "hdifb_tmean=(dsxgcm.HDIFB_TEMP*weights).sum(dim='time',skipna=True).persist()"
   ]
  },
  {
   "cell_type": "code",
   "execution_count": 31,
   "id": "b977c2c4-8275-494b-aee1-b8c52d179aa7",
   "metadata": {},
   "outputs": [],
   "source": [
    "shf_tmean=(dsxgcm.SHF*weights).sum(dim='time',skipna=True).persist()\n",
    "#shf_tmean.to_dataset(name='shf').to_netcdf(savedir+'shf.nc')"
   ]
  },
  {
   "cell_type": "code",
   "execution_count": 32,
   "id": "f49bbe45-d95d-4c7e-a2c2-be70a877e4a3",
   "metadata": {},
   "outputs": [],
   "source": [
    "qflux_minus_shfsw_tmean=((dsxgcm.QFLUX-dsxgcm.SHF_QSW)*weights).sum(dim='time',skipna=True).persist()"
   ]
  },
  {
   "cell_type": "code",
   "execution_count": 33,
   "id": "87738636-8c7b-4dcc-a40a-649fe9bd771b",
   "metadata": {},
   "outputs": [],
   "source": [
    "qsw3d_tmean=(dsxgcm.QSW_3D*weights).sum(dim='time',skipna=True).persist()"
   ]
  },
  {
   "cell_type": "code",
   "execution_count": 34,
   "id": "9952de37-51ea-4be9-9ad5-7541aa106da6",
   "metadata": {},
   "outputs": [],
   "source": [
    "wtt_GM_tmean=(dsxgcm.WTT_ISOP*weights).sum(dim='time',skipna=True).persist()"
   ]
  },
  {
   "cell_type": "code",
   "execution_count": 35,
   "id": "fc655de7-fd2d-48b1-b3d9-1b8d039d77cc",
   "metadata": {},
   "outputs": [],
   "source": [
    "wtt_submeso_tmean=(dsxgcm.WTT_SUBM*weights).sum(dim='time',skipna=True).persist()\n",
    "#submeso_tmean.to_dataset(name='submeso').to_netcdf(savedir+'submeso_3d.nc')"
   ]
  },
  {
   "cell_type": "code",
   "execution_count": 36,
   "id": "119011a3-7525-49af-931a-ea4b52ee34e9",
   "metadata": {},
   "outputs": [],
   "source": [
    "Ttend_tmean=(dsxgcm.TEND_TEMP*weights).sum(dim='time',skipna=True).persist()"
   ]
  },
  {
   "cell_type": "markdown",
   "id": "adfae37c-637c-4549-a823-5e005dfd2211",
   "metadata": {},
   "source": [
    "### Create array for storing time-averaged budget terms"
   ]
  },
  {
   "cell_type": "code",
   "execution_count": 37,
   "id": "091fe779-7600-4b78-85ac-78d1f0d439e4",
   "metadata": {},
   "outputs": [],
   "source": [
    "budget=xr.Dataset()"
   ]
  },
  {
   "cell_type": "markdown",
   "id": "1db9dc0b-ff99-4329-8f57-441905cb0cf3",
   "metadata": {},
   "source": [
    "#### Total tendency (saved term)"
   ]
  },
  {
   "cell_type": "code",
   "execution_count": 38,
   "id": "2b01eb68-a912-416a-8d9e-52b73772d482",
   "metadata": {},
   "outputs": [],
   "source": [
    "budget['TEND_TEMP'] = Ttend_tmean"
   ]
  },
  {
   "cell_type": "markdown",
   "id": "82a21b3b-2cf3-47ee-a8d0-df868f68beb4",
   "metadata": {},
   "source": [
    "#### Divergence of resolved advective fluxes"
   ]
  },
  {
   "cell_type": "code",
   "execution_count": 39,
   "id": "cff1181d-e213-40a7-a6d0-62bc7c400cd7",
   "metadata": {},
   "outputs": [],
   "source": [
    "budget[\"UET\"] = -(gridxgcm.diff(uet_tmean * dsxgcm.VOL.values, axis=\"X\") / dsxgcm.VOL)\n",
    "budget[\"VNT\"] = -(gridxgcm.diff(vnt_tmean * dsxgcm.VOL.values, axis=\"Y\") / dsxgcm.VOL)\n",
    "budget[\"WTT\"] = (\n",
    "    gridxgcm.diff(wtt_tmean.fillna(0) * (dsxgcm.dz * dsxgcm.DXT * dsxgcm.DYT).values, axis=\"Z\")\n",
    "    / dsxgcm.VOL\n",
    ")\n",
    "budget[\"TOT_ADV\"] = budget[\"UET\"] + budget[\"VNT\"] + budget[\"WTT\"]"
   ]
  },
  {
   "cell_type": "markdown",
   "id": "c2596a07-38b7-4c8a-ab73-af9afe0ae94a",
   "metadata": {},
   "source": [
    "#### Local and nonlocal terms in KPP"
   ]
  },
  {
   "cell_type": "code",
   "execution_count": 40,
   "id": "2f07dac3-5df7-46f0-963c-b00724db0421",
   "metadata": {},
   "outputs": [],
   "source": [
    "budget[\"DIA_IMPVF_TEMP\"] = -(\n",
    "    gridxgcm.diff(diapyc_tmean * dsxgcm.TAREA, axis=\"Z\") / dsxgcm.VOL\n",
    ")\n",
    "\n",
    "# set surface flux at 0th layer\n",
    "SRF_TEMP_FLUX = (shf_tmean + qflux_minus_shfsw_tmean) * dsxgcm.hflux_factor\n",
    "\n",
    "budget[\"DIA_IMPVF_TEMP\"][0, :, :] = (\n",
    "    SRF_TEMP_FLUX * dsxgcm.TAREA - diapyc_tmean.isel(z_w_bot=0) * dsxgcm.TAREA\n",
    ") / dsxgcm.VOL.values[0, :, :]\n",
    "\n",
    "budget[\"KPP_SRC_TMP\"] = kppnl_tmean\n",
    "\n",
    "budget[\"VDIF\"] = budget[\"DIA_IMPVF_TEMP\"] + budget[\"KPP_SRC_TMP\"]"
   ]
  },
  {
   "cell_type": "markdown",
   "id": "b08a809a-36f0-4c82-971a-1956a1cd8b27",
   "metadata": {},
   "source": [
    "#### Divergence of vertical fluxes arising from Redi isopycnal stirring"
   ]
  },
  {
   "cell_type": "code",
   "execution_count": 48,
   "id": "0fc03599-7c39-4886-aa2f-07d2d320c266",
   "metadata": {},
   "outputs": [],
   "source": [
    "budget[\"HDIFE_TEMP\"] = gridxgcm.diff(hdife_tmean * dsxgcm.VOL.values, axis=\"X\") / dsxgcm.VOL\n",
    "budget[\"HDIFN_TEMP\"] = gridxgcm.diff(hdifn_tmean * dsxgcm.VOL.values, axis=\"Y\") / dsxgcm.VOL\n",
    "\n",
    "budget[\"HDIFB_TEMP\"] = -(\n",
    "    gridxgcm.diff(hdifb_tmean * dsxgcm.TAREA, axis=\"Z\") / dsxgcm.VOL\n",
    ")\n",
    "budget[\"HDIFB_TEMP\"][0, :, :] = (\n",
    "    0 - hdifb_tmean.isel(z_w_bot=0) * dsxgcm.TAREA\n",
    ") / dsxgcm.VOL.values[0, :, :]\n",
    "\n",
    "budget[\"HDIF\"] = budget[\"HDIFE_TEMP\"] + budget[\"HDIFN_TEMP\"] + budget[\"HDIFB_TEMP\"]"
   ]
  },
  {
   "cell_type": "markdown",
   "id": "50c0e960-dda0-4d94-ba9e-3224c20264d7",
   "metadata": {},
   "source": [
    "#### Divergence of vertical fluxes from submesoscale and GM parameterizations"
   ]
  },
  {
   "cell_type": "code",
   "execution_count": 42,
   "id": "31ef5788-16a4-4ded-98d7-606a73e6d7fe",
   "metadata": {},
   "outputs": [],
   "source": [
    "budget[\"SUBMESO\"] = (\n",
    "    gridxgcm.diff(wtt_submeso_tmean.fillna(0) * (dsxgcm.dz * dsxgcm.DXT * dsxgcm.DYT).values, axis=\"Z\")\n",
    "    / dsxgcm.VOL )\n",
    "    \n",
    "budget[\"GM\"] = (\n",
    "    gridxgcm.diff(wtt_GM_tmean.fillna(0) * (dsxgcm.dz * dsxgcm.DXT * dsxgcm.DYT).values, axis=\"Z\")\n",
    "    / dsxgcm.VOL )"
   ]
  },
  {
   "cell_type": "markdown",
   "id": "c1c93bd8-50af-44c6-b53a-7d9fd68ae310",
   "metadata": {},
   "source": [
    "#### Solar penetration"
   ]
  },
  {
   "cell_type": "code",
   "execution_count": 43,
   "id": "c55350ac-c24a-4f39-a97e-cbf68a53dd1a",
   "metadata": {},
   "outputs": [],
   "source": [
    "budget[\"QSW_3D\"] = -gridxgcm.diff((qsw3d_tmean * dsxgcm.hflux_factor), axis=\"Z\") / dsxgcm.DZT"
   ]
  },
  {
   "cell_type": "markdown",
   "id": "26c99bbd-8a55-4c10-83b3-5f6e2131c6d5",
   "metadata": {},
   "source": [
    "#### Select (lon,lat) for plotting budget terms at one location."
   ]
  },
  {
   "cell_type": "code",
   "execution_count": 44,
   "id": "93b14624-faaa-46b7-bcc9-0fea715849cc",
   "metadata": {},
   "outputs": [],
   "source": [
    "subset = budget.isel(nlon_t=200, nlat_t=180) * (86400*365)"
   ]
  },
  {
   "cell_type": "code",
   "execution_count": 49,
   "id": "47938478-cb46-4cb2-88f4-162b439b9423",
   "metadata": {},
   "outputs": [
    {
     "name": "stdout",
     "output_type": "stream",
     "text": [
      "CPU times: user 1.42 s, sys: 468 ms, total: 1.89 s\n",
      "Wall time: 3.22 s\n"
     ]
    },
    {
     "data": {
      "image/png": "[encoded data removed]",
      "text/plain": [
       "<Figure size 936x432 with 2 Axes>"
      ]
     },
     "metadata": {},
     "output_type": "display_data"
    }
   ],
   "source": [
    "%%time\n",
    "\n",
    "subset['z_t'] = ds.z_t / m2cm\n",
    "total_rhs = subset.QSW_3D + subset.HDIF + subset.VDIF + subset.TOT_ADV \n",
    "\n",
    "ymin = 300\n",
    "\n",
    "plt.rc('xtick',labelsize=15)\n",
    "plt.rc('ytick',labelsize=15)\n",
    "plt.rc('figure',titlesize=18)\n",
    "mpl.rcParams['lines.linewidth'] = 3\n",
    "\n",
    "fig, ax = plt.subplots(1, 2, figsize=(13, 6), sharey=True)\n",
    "\n",
    "# plot individual components\n",
    "plt.grid()\n",
    "subset.VDIF.plot(y=\"z_t\", ylim=(ymin, 0), color='b',label=\"VDIF\", ax=ax[0])\n",
    "subset.HDIF.plot(y=\"z_t\", ylim=(ymin, 0), color='b',label=\"HDIFB\",ls='--', ax=ax[0])\n",
    "subset.QSW_3D.plot(y=\"z_t\", ylim=(ymin, 0), color='r', label=\"QSW_3D\", ax=ax[0])\n",
    "subset.TOT_ADV.plot(y=\"z_t\", ylim=(ymin, 0), color='m',label=\"ADV\", ax=ax[0])\n",
    "#subset.SUBMESO.plot(y=\"z_t\", ylim=(ymin, 0), color='g',label=\"SUBM\", ax=ax[0])\n",
    "#subset.GM.plot(y=\"z_t\", ylim=(ymin, 0), color='c',label=\"GM\", ax=ax[0])\n",
    "# plot sum\n",
    "total_rhs.plot(y=\"z_t\", ylim=(ymin, 0), color='k', label=\"SUM\", ls=\"--\", ax=ax[0] )\n",
    "ax[0].grid(axis='both')\n",
    "ax[0].set_title('POP heat budget',fontsize=16)\n",
    "ax[0].set_xlabel('degC / year',fontsize=16)\n",
    "ax[0].set_ylabel('depth (m)',fontsize=16)\n",
    "leg=ax[0].legend(fontsize=12)\n",
    "leg.get_frame().set_edgecolor('k')\n",
    "\n",
    "# Compare sum of terms on RHS and TEND_TEMP (saved online)\n",
    "plt.grid()\n",
    "total_rhs.plot(y=\"z_t\", ylim=(ymin, 0), color='k', label=\"SUM\", ls=\"--\", ax=ax[1] )\n",
    "# plot tendency\n",
    "subset.TEND_TEMP.plot(y=\"z_t\", ylim=(ymin, 0), color='k', label=\"TEND_TEMP\", ax=ax[1])\n",
    "ax[1].grid(axis='both')\n",
    "ax[1].set_title('Computed vs saved tendency',fontsize=16)\n",
    "ax[1].set_xlabel('degC / year',fontsize=16)\n",
    "ax[1].set_ylabel('',fontsize=16)\n",
    "leg=ax[1].legend(fontsize=12,loc='lower left',edgecolor='k');\n",
    "leg.get_frame().set_edgecolor('k')\n",
    "\n",
    "fig.set_facecolor(\"w\")"
   ]
  },
  {
   "cell_type": "code",
   "execution_count": null,
   "id": "90c26524-e5bd-4991-a279-1a6bf5aa66e7",
   "metadata": {},
   "outputs": [],
   "source": []
  }
 ],
 "metadata": {
  "kernelspec": {
   "display_name": "Python 3",
   "language": "python",
   "name": "python3"
  },
  "language_info": {
   "codemirror_mode": {
    "name": "ipython",
    "version": 3
   },
   "file_extension": ".py",
   "mimetype": "text/x-python",
   "name": "python",
   "nbconvert_exporter": "python",
   "pygments_lexer": "ipython3",
   "version": "3.7.10"
  }
 },
 "nbformat": 4,
 "nbformat_minor": 5
}
